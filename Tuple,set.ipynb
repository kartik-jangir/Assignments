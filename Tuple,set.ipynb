{
 "cells": [
  {
   "cell_type": "markdown",
   "id": "0789598e",
   "metadata": {},
   "source": [
    " Assignment3: Tuples, Set\n"
   ]
  },
  {
   "cell_type": "code",
   "execution_count": 24,
   "id": "f07a3b7f",
   "metadata": {},
   "outputs": [
    {
     "data": {
      "text/plain": [
       "24"
      ]
     },
     "execution_count": 24,
     "metadata": {},
     "output_type": "execute_result"
    }
   ],
   "source": [
    "#Ans1:\n",
    "def myreduce(func,seq):\n",
    "    \n",
    "    #first element\n",
    "    a=seq[0]\n",
    "    \n",
    "    for i in range(1,len(seq)):\n",
    "        z=func(a,seq[i])\n",
    "        a=z\n",
    "    \n",
    "    return(z)\n",
    "myreduce(lambda a,b:a*b,[1,2,3,4])"
   ]
  },
  {
   "cell_type": "code",
   "execution_count": 27,
   "id": "4f5c1130",
   "metadata": {},
   "outputs": [
    {
     "data": {
      "text/plain": [
       "[2, 4]"
      ]
     },
     "execution_count": 27,
     "metadata": {},
     "output_type": "execute_result"
    }
   ],
   "source": [
    "#Ans2:\n",
    "def myfilter(func,seq):\n",
    "    result=[]\n",
    "    for i in seq:\n",
    "        \n",
    "        z=func(i)\n",
    "        if z==True:\n",
    "            result.append(i)\n",
    "            \n",
    "    return(result)\n",
    "\n",
    "myfilter(lambda a:a%2==0,[1,2,3,4])"
   ]
  },
  {
   "cell_type": "code",
   "execution_count": 47,
   "id": "8b95bd79",
   "metadata": {},
   "outputs": [
    {
     "data": {
      "text/plain": [
       "[(1, 1), (2, 1), (3, 1), (1, 2), (2, 2), (3, 2), (1, 3), (2, 3), (3, 3)]"
      ]
     },
     "execution_count": 47,
     "metadata": {},
     "output_type": "execute_result"
    }
   ],
   "source": [
    "#Ans3:\n",
    "\n",
    "#(1)\n",
    "l1=['{}'.format(a)*i for a in 'xyz' for i in range(1,5) ]\n",
    "\n",
    "#(2)\n",
    "l2=['{}'.format(a)*i for i in range(1,5) for a in 'xyz' ]\n",
    "\n",
    "#(3)\n",
    "l3=[[a+i] for a in range(2,5)  for i in range(3) ]\n",
    "\n",
    "#(4)\n",
    "l4=[[i+x for i in range(4)] for x in range(2,6)]\n",
    "\n",
    "#(5)\n",
    "l5=[(i,j)  for j in range(1,4) for i in range(1,4) ]\n"
   ]
  }
 ],
 "metadata": {
  "kernelspec": {
   "display_name": "Python 3",
   "language": "python",
   "name": "python3"
  },
  "language_info": {
   "codemirror_mode": {
    "name": "ipython",
    "version": 3
   },
   "file_extension": ".py",
   "mimetype": "text/x-python",
   "name": "python",
   "nbconvert_exporter": "python",
   "pygments_lexer": "ipython3",
   "version": "3.8.8"
  }
 },
 "nbformat": 4,
 "nbformat_minor": 5
}
