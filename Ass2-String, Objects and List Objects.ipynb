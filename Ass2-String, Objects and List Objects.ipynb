{
 "cells": [
  {
   "cell_type": "markdown",
   "id": "7786ce52",
   "metadata": {},
   "source": [
    "# Assignment2: String, Objects and List Objects\n"
   ]
  },
  {
   "cell_type": "code",
   "execution_count": 43,
   "id": "beca4ac4",
   "metadata": {},
   "outputs": [
    {
     "name": "stdout",
     "output_type": "stream",
     "text": [
      "5\n",
      "*\n",
      "**\n",
      "***\n",
      "**\n",
      "*\n"
     ]
    }
   ],
   "source": [
    "#Ans1:\n",
    "\n",
    "#Number of lines of stars\n",
    "num=int(input('Enter number of lines of stars'))\n",
    "\n",
    "for i in range(1,num+1):\n",
    "    if i <= ((num//2)+1):\n",
    "        for j in range(i):\n",
    "            print('*', end='')\n",
    "        print()\n",
    "    else:\n",
    "        for j in range(num-i+1):\n",
    "            print('*', end='')\n",
    "        print()\n",
    "        "
   ]
  },
  {
   "cell_type": "code",
   "execution_count": 3,
   "id": "d69fee8e",
   "metadata": {},
   "outputs": [
    {
     "name": "stdout",
     "output_type": "stream",
     "text": [
      "Enter a wordkartik\n",
      "Reversed word:  kitrak\n"
     ]
    }
   ],
   "source": [
    "#Ans2:\n",
    "user_input=input('Enter a word')\n",
    "print('Reversed word: ',user_input[::-1])"
   ]
  }
 ],
 "metadata": {
  "kernelspec": {
   "display_name": "Python 3",
   "language": "python",
   "name": "python3"
  },
  "language_info": {
   "codemirror_mode": {
    "name": "ipython",
    "version": 3
   },
   "file_extension": ".py",
   "mimetype": "text/x-python",
   "name": "python",
   "nbconvert_exporter": "python",
   "pygments_lexer": "ipython3",
   "version": "3.8.8"
  }
 },
 "nbformat": 4,
 "nbformat_minor": 5
}
